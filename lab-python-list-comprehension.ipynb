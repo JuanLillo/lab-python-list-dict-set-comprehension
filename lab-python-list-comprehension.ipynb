{
 "cells": [
  {
   "cell_type": "markdown",
   "id": "25d7736c-ba17-4aff-b6bb-66eba20fbf4e",
   "metadata": {},
   "source": [
    "# Lab | List, Dict and Set Comprehension"
   ]
  },
  {
   "cell_type": "markdown",
   "id": "7dd3cbde-675a-4b81-92c3-f728846dbe06",
   "metadata": {},
   "source": [
    "## Exercise: Managing Customer Orders Optimized with Comprehension"
   ]
  },
  {
   "cell_type": "markdown",
   "id": "5d500160-2fb7-4777-b5e4-09d45ebaf328",
   "metadata": {},
   "source": [
    "In the previous exercise, you developed a program to manage customer orders and inventory. Now, let's take it a step further and incorporate comprehension into your code.\n",
    "\n",
    "Follow the steps below to complete the exercise:\n",
    "\n",
    "1. Review your code from the previous exercise and identify areas where you can apply comprehension to simplify and streamline your code. \n",
    "\n",
    "    - *Hint: Apply it to initialize inventory, updating the inventory and printing the updated inventory.*\n",
    "    \n",
    "    - For example, in initializing the inventory, we could have:\n",
    "    \n",
    "        ```python\n",
    "        def initialize_inventory(products):\n",
    "            inventory = {product: int(input(f\"Enter the quantity of {product}s available: \")) for product in products}\n",
    "            return inventory\n",
    "\n",
    "        ```\n",
    "<br>\n",
    "    \n",
    "    \n",
    "2. Modify the function get_customer_orders so it prompts the user to enter the number of customer orders and gathers the product names using a loop and user input. Use comprehension.\n",
    "\n",
    "3. Add a new function to calculate the total price of the customer order. For each product in customer_orders, prompt the user to enter the price of that product. Use comprehension to calculate the total price. Note: assume that the user can only have 1 unit of each product.\n",
    "\n",
    "4. Modify the update_inventory function to remove the product from the inventory if its quantity becomes zero after fulfilling the customer orders. Use comprehension to filter out the products with a quantity of zero from the inventory.\n",
    "\n",
    "5. Print the total price of the customer order.\n",
    "\n",
    "Your code should produce output similar to the following:\n",
    "\n",
    "```python\n",
    "Enter the quantity of t-shirts available:  5\n",
    "Enter the quantity of mugs available:  4\n",
    "Enter the quantity of hats available:  3\n",
    "Enter the quantity of books available:  2\n",
    "Enter the quantity of keychains available:  1\n",
    "Enter the number of customer orders:  2\n",
    "Enter the name of a product that a customer wants to order:  hat\n",
    "Enter the name of a product that a customer wants to order:  keychain\n",
    "\n",
    "Order Statistics:\n",
    "Total Products Ordered: 2\n",
    "Percentage of Unique Products Ordered: 40.0\n",
    "\n",
    "Updated Inventory:\n",
    "t-shirt: 5\n",
    "mug: 4\n",
    "hat: 2\n",
    "book: 2\n",
    "Enter the price of keychain:  5\n",
    "Enter the price of hat:  10\n",
    "Total Price: 15.0\n",
    "\n",
    "```\n"
   ]
  },
  {
   "cell_type": "code",
   "execution_count": 4,
   "id": "3a7445b8-1937-4099-ae4e-0d2617547e08",
   "metadata": {},
   "outputs": [],
   "source": [
    "products = [\"t-shirt\", \"mug\", \"hat\", \"book\", \"keychain\"]"
   ]
  },
  {
   "cell_type": "code",
   "execution_count": 5,
   "id": "343831a3-05d8-4777-a370-b216a7a9ef54",
   "metadata": {},
   "outputs": [],
   "source": [
    "customer_orders=set()"
   ]
  },
  {
   "cell_type": "code",
   "execution_count": 6,
   "id": "90b6ebd2-33eb-44ad-89ba-eea45ce1eb3e",
   "metadata": {},
   "outputs": [],
   "source": [
    "def initialize_inventory(products):\n",
    "    for product in products:\n",
    "        quantity = int(input(f\"Enter the quantity of {product}s available: \"))\n",
    "        inventory[product] = quantity\n",
    "    return inventory"
   ]
  },
  {
   "cell_type": "code",
   "execution_count": 7,
   "id": "9ff524bf-fbed-4cd3-967f-f0a2d5a5a5ac",
   "metadata": {},
   "outputs": [],
   "source": [
    "#1.1 Initialize inventory: \n",
    "def initialize_inventory(products):\n",
    "    inventory = {product: int(input(f\"Enter the quantity of {product}s available: \")) for product in products}\n",
    "    return inventory"
   ]
  },
  {
   "cell_type": "code",
   "execution_count": 8,
   "id": "3ccd2d2d-3465-4e51-bb2e-eb9c0b0c3798",
   "metadata": {},
   "outputs": [
    {
     "name": "stdin",
     "output_type": "stream",
     "text": [
      "Enter the quantity of t-shirts available:  5\n",
      "Enter the quantity of mugs available:  5\n",
      "Enter the quantity of hats available:  5\n",
      "Enter the quantity of books available:  5\n",
      "Enter the quantity of keychains available:  5\n"
     ]
    },
    {
     "data": {
      "text/plain": [
       "{'t-shirt': 5, 'mug': 5, 'hat': 5, 'book': 5, 'keychain': 5}"
      ]
     },
     "execution_count": 8,
     "metadata": {},
     "output_type": "execute_result"
    }
   ],
   "source": [
    "initialize_inventory(products)"
   ]
  },
  {
   "cell_type": "code",
   "execution_count": 9,
   "id": "599cf300-7889-477d-bef5-a181a27eb59c",
   "metadata": {},
   "outputs": [],
   "source": [
    "#1.2 Get customers orders\n",
    "def get_customers_orders(products):\n",
    "    customer_orders = {f\"product_{p+1}\": input(f\"Enter the product {p+1} from {products}: \") for p in range(3)}\n",
    "    return customer_orders"
   ]
  },
  {
   "cell_type": "code",
   "execution_count": 10,
   "id": "b46625dd-7b0b-4c1d-b2c1-6b8488e7e963",
   "metadata": {},
   "outputs": [
    {
     "name": "stdin",
     "output_type": "stream",
     "text": [
      "Enter the product 1 from ['t-shirt', 'mug', 'hat', 'book', 'keychain']:  mug\n",
      "Enter the product 2 from ['t-shirt', 'mug', 'hat', 'book', 'keychain']:  hat\n",
      "Enter the product 3 from ['t-shirt', 'mug', 'hat', 'book', 'keychain']:  book\n"
     ]
    },
    {
     "data": {
      "text/plain": [
       "{'product_1': 'mug', 'product_2': 'hat', 'product_3': 'book'}"
      ]
     },
     "execution_count": 10,
     "metadata": {},
     "output_type": "execute_result"
    }
   ],
   "source": [
    "get_customers_orders(products)"
   ]
  },
  {
   "cell_type": "code",
   "execution_count": 33,
   "id": "6c1a1359-0930-4633-ae43-f12a039e621b",
   "metadata": {},
   "outputs": [],
   "source": [
    "#3 Update inventory\n",
    "def update_inventory(customer_orders, inventory):\n",
    "    for product in customer_orders:\n",
    "        if product in inventory:\n",
    "            inventory[product]-=1\n",
    "    return inventory"
   ]
  },
  {
   "cell_type": "code",
   "execution_count": 35,
   "id": "d140b056-c3c5-4599-893f-7e9c7ca1b55a",
   "metadata": {},
   "outputs": [],
   "source": [
    "#1.3 Update inventory\n",
    "\n"
   ]
  },
  {
   "cell_type": "code",
   "execution_count": 37,
   "id": "bce292ef-52d0-4781-8ef4-627b8929f60c",
   "metadata": {},
   "outputs": [],
   "source": [
    "#1.4 Calculate order statistics\n",
    "def calculate_order_statistics(customer_orders, products):\n",
    "    total_products_ordered = len(customer_orders)\n",
    "    unique_products = {order for order in customer_orders}  # Usando comprensión de conjunto para ver productos únicos\n",
    "    percentage_of_products_ordered = total_products_ordered / len(products) * 100\n",
    "    order_statistics = (total_products_ordered, percentage_of_products_ordered)\n",
    "    return order_statistics"
   ]
  },
  {
   "cell_type": "code",
   "execution_count": 39,
   "id": "4f4d3033-8c9e-4629-b51a-521f72f8c107",
   "metadata": {},
   "outputs": [],
   "source": [
    "#2\n",
    "def get_customers_orders(products):\n",
    "    num_orders = int(input(\"Enter the number of orders you want to place: \"))\n",
    "    \n",
    "    customer_orders = [input(f\"Enter product {i+1} from {products}: \") for i in range(num_orders)]\n",
    "\n",
    "    return customer_orders\n"
   ]
  },
  {
   "cell_type": "code",
   "execution_count": 41,
   "id": "0fdbc29c-3cbf-4429-9107-28f40c36b466",
   "metadata": {},
   "outputs": [],
   "source": [
    "#3\n",
    "def calculate_total_price(customer_orders):\n",
    "    prices = {product: float(input(f\"Enter the price for {product}: \")) for product in customer_orders}\n",
    "\n",
    "    total_price = sum(prices[product] for product in customer_orders)\n",
    "\n",
    "    return total_price"
   ]
  },
  {
   "cell_type": "code",
   "execution_count": 43,
   "id": "a68d6caa-a9e5-4149-af84-fa86eaa3c720",
   "metadata": {},
   "outputs": [],
   "source": [
    "#4\n",
    "def update_inventory(customer_orders, inventory):\n",
    "    for product in customer_orders:\n",
    "        if product in inventory:\n",
    "            inventory[product] -= 1\n",
    "        inventory = {product: quantity for product, quantity in inventory.items() if quantity > 0}\n",
    "    \n",
    "    return inventory"
   ]
  },
  {
   "cell_type": "code",
   "execution_count": 45,
   "id": "062f934a-1161-465a-a790-f3bb9d970719",
   "metadata": {},
   "outputs": [],
   "source": [
    "#5\n",
    "def calculate_total_price(customer_orders):\n",
    "    prices = {product: float(input(f\"Enter the price for {product}: \")) for product in customer_orders}\n",
    "\n",
    "    total_price = sum(prices[product] for product in customer_orders)\n",
    "\n",
    "    return total_price"
   ]
  },
  {
   "cell_type": "code",
   "execution_count": 48,
   "id": "8761185b-5013-4932-a176-9c0c4123a9d0",
   "metadata": {},
   "outputs": [
    {
     "data": {
      "text/plain": [
       "0"
      ]
     },
     "execution_count": 48,
     "metadata": {},
     "output_type": "execute_result"
    }
   ],
   "source": [
    "calculate_total_price(customer_orders)"
   ]
  }
 ],
 "metadata": {
  "kernelspec": {
   "display_name": "Python 3 (ipykernel)",
   "language": "python",
   "name": "python3"
  },
  "language_info": {
   "codemirror_mode": {
    "name": "ipython",
    "version": 3
   },
   "file_extension": ".py",
   "mimetype": "text/x-python",
   "name": "python",
   "nbconvert_exporter": "python",
   "pygments_lexer": "ipython3",
   "version": "3.12.7"
  }
 },
 "nbformat": 4,
 "nbformat_minor": 5
}
